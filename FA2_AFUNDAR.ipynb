{
 "cells": [
  {
   "cell_type": "code",
   "execution_count": 43,
   "id": "095e6d12",
   "metadata": {},
   "outputs": [
    {
     "data": {
      "text/plain": [
       "25200"
      ]
     },
     "execution_count": 43,
     "metadata": {},
     "output_type": "execute_result"
    }
   ],
   "source": [
    "#1 FA2\n",
    "\n",
    "def multiplier(num):\n",
    "    result=1\n",
    "    for x in num:\n",
    "        result=result*x\n",
    "    return result\n",
    "\n",
    "\n",
    "List = [7,10,6,1,2,3,5,2]\n",
    "\n",
    "multiplier(List)\n"
   ]
  },
  {
   "cell_type": "code",
   "execution_count": 19,
   "id": "9f6bf751",
   "metadata": {},
   "outputs": [
    {
     "name": "stdout",
     "output_type": "stream",
     "text": [
      "+ - - - - + - - - - + - - - - + - - - - +\n",
      "|         |         |         |         |        \n",
      "|         |         |         |         |        \n",
      "|         |         |         |         |        \n",
      "|         |         |         |         |        \n",
      "+ - - - - + - - - - + - - - - + - - - - +\n",
      "|         |         |         |         |        \n",
      "|         |         |         |         |        \n",
      "|         |         |         |         |        \n",
      "|         |         |         |         |        \n",
      "+ - - - - + - - - - + - - - - + - - - - +\n",
      "|         |         |         |         |        \n",
      "|         |         |         |         |        \n",
      "|         |         |         |         |        \n",
      "|         |         |         |         |        \n",
      "+ - - - - + - - - - + - - - - + - - - - +\n",
      "|         |         |         |         |        \n",
      "|         |         |         |         |        \n",
      "|         |         |         |         |        \n",
      "|         |         |         |         |        \n",
      "+ - - - - + - - - - + - - - - + - - - - +\n"
     ]
    }
   ],
   "source": [
    "#2 FA2\n",
    "\n",
    "def print_grid():\n",
    "    print('+', '-','-','-', '-', end=' ')\n",
    "\n",
    "def print_grid_twice():\n",
    "    print_grid()\n",
    "    print_grid()\n",
    "    \n",
    "def print_grid_four():\n",
    "    print_grid_twice()\n",
    "    print_grid_twice()\n",
    "    print('+')\n",
    "    \n",
    " \n",
    "def print_border():\n",
    "    print('|        ','|        ','|        ','|        ','|        ')\n",
    "\n",
    "def print_border_twice():\n",
    "    print_border()\n",
    "    print_border()\n",
    "\n",
    "def print_border_four():\n",
    "    print_border_twice()\n",
    "    print_border_twice()\n",
    "    \n",
    "def print_row():\n",
    "    print_grid_four()\n",
    "    print_border_four()\n",
    "\n",
    "def print_row_twice():\n",
    "    print_row()\n",
    "    print_row()\n",
    "    \n",
    "def print_row_four():\n",
    "    print_row_twice()\n",
    "    print_row_twice()\n",
    "    print_grid_four()\n",
    "    \n",
    "\n",
    "print_row_four()"
   ]
  },
  {
   "cell_type": "code",
   "execution_count": null,
   "id": "110ade9a",
   "metadata": {},
   "outputs": [],
   "source": []
  }
 ],
 "metadata": {
  "kernelspec": {
   "display_name": "Python 3 (ipykernel)",
   "language": "python",
   "name": "python3"
  },
  "language_info": {
   "codemirror_mode": {
    "name": "ipython",
    "version": 3
   },
   "file_extension": ".py",
   "mimetype": "text/x-python",
   "name": "python",
   "nbconvert_exporter": "python",
   "pygments_lexer": "ipython3",
   "version": "3.11.2"
  }
 },
 "nbformat": 4,
 "nbformat_minor": 5
}
